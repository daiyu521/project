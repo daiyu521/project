{
 "cells": [
  {
   "cell_type": "markdown",
   "metadata": {},
   "source": [
    "# Capstone Project"
   ]
  },
  {
   "cell_type": "markdown",
   "metadata": {},
   "source": [
    "## Problem Statement"
   ]
  },
  {
   "cell_type": "markdown",
   "metadata": {},
   "source": [
    "The H hotel's business development department wants to list the hotel on the TripAdvisor website.  The survey result shows  96% of TripAdvisor users consider review rating necessary when planning trips and booking hotels. With online reviews rating having such a strong influence on consumers, the Business Development team tasked us to develop a model to predict possible H hotel review rating on TripAdvisor after the listing based on their current customers' feedback. It will reinforce the value of successful online reputation management for hotels and the resulting positive impact on revenue.\n",
    "\n",
    "In this project, I will use Multinomial Naive Bay as a baseline model to predict the overall rating. Further, I will use other advance models/techniques like Neural network, deep learning to see if there is any improvement. The accuracy score will guide the model's performance. Ultimately, I will conclude the best model based on accuracy score. \n",
    "\n",
    "Challenges\n",
    "\n",
    "From EDA, firstly, we can see that it contains the unbalanced classes of rating for all rating aspects. If we train a classification model without fixing this problem, the model will be completely biased. It also impacts the correlations between features. Techniques should be acquired to balance the dataset. \n",
    "Secondly, extensive data set has high dimension text features(325740 features), which means the data consists of a large number of noise that can not be directly used for modeling. I have to find the right approach for the dimension reduction.\n",
    "Lastly, It seems more challenging for predicting aspects rating. I will give a try. It mostly likely to be involved in the further study.  "
   ]
  },
  {
   "cell_type": "code",
   "execution_count": 3,
   "metadata": {},
   "outputs": [],
   "source": [
    "import json,os\n",
    "import ast\n",
    "import pandas as pd\n",
    "import numpy as np\n",
    "import matplotlib.pyplot as plt\n",
    "import seaborn as sns\n",
    "from os import path\n",
    "from PIL import Image\n",
    "import matplotlib.pyplot as plt\n",
    "import re\n",
    "from nltk.corpus import stopwords\n",
    "from sklearn.feature_extraction.text import CountVectorizer,TfidfVectorizer\n",
    "from nltk.stem import WordNetLemmatizer\n",
    "from wordcloud import WordCloud, STOPWORDS, ImageColorGenerator\n",
    "from sklearn.pipeline import Pipeline\n",
    "from sklearn.model_selection import train_test_split, GridSearchCV\n",
    "from sklearn.linear_model import LogisticRegression\n",
    "from sklearn.naive_bayes import MultinomialNB\n",
    "from sklearn.metrics import classification_report\n",
    "from sklearn.metrics import confusion_matrix\n",
    "from sklearn.metrics import f1_score\n",
    "from sklearn.utils import resample\n",
    "import matplotlib.pyplot as plt\n",
    "from sklearn.pipeline import Pipeline\n",
    "from sklearn.model_selection import train_test_split, GridSearchCV"
   ]
  },
  {
   "cell_type": "markdown",
   "metadata": {},
   "source": [
    "## 1. File loading"
   ]
  },
  {
   "cell_type": "markdown",
   "metadata": {},
   "source": [
    "TripAdvisor dataset download from the [website](http://times.cs.uiuc.edu/~wang296/Data/). It contains 12,773 JSON files; each JSON file contains the reviews and the ratings from different aspects. I loaded the JSON file and converted it to the CSV file. I will not run the code for the loading and converting process as it took hours to complete."
   ]
  },
  {
   "cell_type": "code",
   "execution_count": 2,
   "metadata": {},
   "outputs": [],
   "source": [
    "#directory_path = \"./json/\"\n",
    "#json_files = [pos_json for pos_json in os.listdir(directory_path) if pos_json.endswith('.json')]\n",
    "#file=[]\n",
    "#for ind in range(12773):\n",
    "    #with open(directory_path+json_files[ind]) as f:\n",
    "             #file.append(json.load(f))\n",
    "#tripadvisor = pd.DataFrame()\n",
    "#for ind in range(len(file)):\n",
    "      #tripadvisor.append(pd.json_normalize (file[ind][\"Reviews\"]))\n",
    "\n",
    "#tripadvisor.to_csv('./tripadvisor.csv')"
   ]
  },
  {
   "cell_type": "code",
   "execution_count": 4,
   "metadata": {},
   "outputs": [],
   "source": [
    "#load the CSV file in case not scraping\n",
    "df = pd.read_csv('./tripadvisor.csv')"
   ]
  },
  {
   "cell_type": "markdown",
   "metadata": {},
   "source": [
    "## 2. Data Cleaning"
   ]
  },
  {
   "cell_type": "code",
   "execution_count": 10,
   "metadata": {},
   "outputs": [
    {
     "data": {
      "text/plain": [
       "(1621956, 3)"
      ]
     },
     "execution_count": 10,
     "metadata": {},
     "output_type": "execute_result"
    }
   ],
   "source": [
    "#check the datafram \n",
    "df.shape"
   ]
  },
  {
   "cell_type": "code",
   "execution_count": 11,
   "metadata": {},
   "outputs": [
    {
     "data": {
      "text/html": [
       "<div>\n",
       "<style scoped>\n",
       "    .dataframe tbody tr th:only-of-type {\n",
       "        vertical-align: middle;\n",
       "    }\n",
       "\n",
       "    .dataframe tbody tr th {\n",
       "        vertical-align: top;\n",
       "    }\n",
       "\n",
       "    .dataframe thead th {\n",
       "        text-align: right;\n",
       "    }\n",
       "</style>\n",
       "<table border=\"1\" class=\"dataframe\">\n",
       "  <thead>\n",
       "    <tr style=\"text-align: right;\">\n",
       "      <th></th>\n",
       "      <th>Ratings</th>\n",
       "      <th>Title</th>\n",
       "      <th>Content</th>\n",
       "    </tr>\n",
       "  </thead>\n",
       "  <tbody>\n",
       "    <tr>\n",
       "      <th>0</th>\n",
       "      <td>{'Service': '5', 'Cleanliness': '5', 'Overall'...</td>\n",
       "      <td>“Great place and location”</td>\n",
       "      <td>Usually stay near the airport, but this trip w...</td>\n",
       "    </tr>\n",
       "    <tr>\n",
       "      <th>1</th>\n",
       "      <td>{'Service': '4', 'Cleanliness': '4', 'Overall'...</td>\n",
       "      <td>“Nice stay, nice surroundings”</td>\n",
       "      <td>Stayed at this Hilton for 2 nights. It was lik...</td>\n",
       "    </tr>\n",
       "    <tr>\n",
       "      <th>2</th>\n",
       "      <td>{'Service': '5', 'Cleanliness': '5', 'Overall'...</td>\n",
       "      <td>“Perfect for an overnight just off I-95”</td>\n",
       "      <td>Stayed there one night, December 16, on the wa...</td>\n",
       "    </tr>\n",
       "    <tr>\n",
       "      <th>3</th>\n",
       "      <td>{'Service': '5', 'Cleanliness': '5', 'Overall'...</td>\n",
       "      <td>“Great Hotel”</td>\n",
       "      <td>I just stayed here last weekend and have alrea...</td>\n",
       "    </tr>\n",
       "    <tr>\n",
       "      <th>4</th>\n",
       "      <td>{'Service': '5', 'Cleanliness': '5', 'Overall'...</td>\n",
       "      <td>“good room for handicapped person”</td>\n",
       "      <td>My mother who is 90 and I stayed one night on ...</td>\n",
       "    </tr>\n",
       "  </tbody>\n",
       "</table>\n",
       "</div>"
      ],
      "text/plain": [
       "                                             Ratings  \\\n",
       "0  {'Service': '5', 'Cleanliness': '5', 'Overall'...   \n",
       "1  {'Service': '4', 'Cleanliness': '4', 'Overall'...   \n",
       "2  {'Service': '5', 'Cleanliness': '5', 'Overall'...   \n",
       "3  {'Service': '5', 'Cleanliness': '5', 'Overall'...   \n",
       "4  {'Service': '5', 'Cleanliness': '5', 'Overall'...   \n",
       "\n",
       "                                      Title  \\\n",
       "0                “Great place and location”   \n",
       "1            “Nice stay, nice surroundings”   \n",
       "2  “Perfect for an overnight just off I-95”   \n",
       "3                             “Great Hotel”   \n",
       "4        “good room for handicapped person”   \n",
       "\n",
       "                                             Content  \n",
       "0  Usually stay near the airport, but this trip w...  \n",
       "1  Stayed at this Hilton for 2 nights. It was lik...  \n",
       "2  Stayed there one night, December 16, on the wa...  \n",
       "3  I just stayed here last weekend and have alrea...  \n",
       "4  My mother who is 90 and I stayed one night on ...  "
      ]
     },
     "execution_count": 11,
     "metadata": {},
     "output_type": "execute_result"
    }
   ],
   "source": [
    "#display first 5 rows\n",
    "df.head()"
   ]
  },
  {
   "cell_type": "code",
   "execution_count": 7,
   "metadata": {},
   "outputs": [],
   "source": [
    "#drop the unnecessary rows\n",
    "df=df.drop(columns=[\"Unnamed: 0\",\"AuthorLocation\",\"Author\",\"Date\",\"ReviewID\"],inplace=False)"
   ]
  },
  {
   "cell_type": "code",
   "execution_count": 9,
   "metadata": {},
   "outputs": [],
   "source": [
    "#convert the column \"Rating\" to dataframe\n",
    "rating=[]\n",
    "for item in df['Ratings'].values.tolist():\n",
    "          rating.append(ast.literal_eval(item))\n",
    "df2 = pd.DataFrame(rating)"
   ]
  },
  {
   "cell_type": "code",
   "execution_count": 12,
   "metadata": {},
   "outputs": [],
   "source": [
    "#merge the dateframe with the original dateframe by index\n",
    "df=pd.concat([df, df2], axis=1).reindex(df.index)"
   ]
  },
  {
   "cell_type": "code",
   "execution_count": 13,
   "metadata": {},
   "outputs": [],
   "source": [
    "#drop the \"ratings\" column\n",
    "df=df.drop(columns=[\"Ratings\"])"
   ]
  },
  {
   "cell_type": "code",
   "execution_count": 14,
   "metadata": {},
   "outputs": [],
   "source": [
    "#creat a column combine \"Title\" and \"Content\"\n",
    "df[\"feature\"] = df[\"Title\"] + \" \" + df[\"Content\"]"
   ]
  },
  {
   "cell_type": "code",
   "execution_count": 15,
   "metadata": {},
   "outputs": [
    {
     "data": {
      "text/plain": [
       "False    1178978\n",
       "True      442978\n",
       "dtype: int64"
      ]
     },
     "execution_count": 15,
     "metadata": {},
     "output_type": "execute_result"
    }
   ],
   "source": [
    "#check the duplicated rows\n",
    "df.duplicated().value_counts()"
   ]
  },
  {
   "cell_type": "code",
   "execution_count": 16,
   "metadata": {},
   "outputs": [],
   "source": [
    "#drop teh duplicate rows in dataframe\n",
    "df=df.drop_duplicates()"
   ]
  },
  {
   "cell_type": "code",
   "execution_count": 17,
   "metadata": {},
   "outputs": [],
   "source": [
    "#convert the column \"feature\" to str\n",
    "df['feature'] = df['feature'].astype('str') "
   ]
  },
  {
   "cell_type": "code",
   "execution_count": 18,
   "metadata": {},
   "outputs": [
    {
     "data": {
      "text/plain": [
       "Title                                        145112\n",
       "Content                                           0\n",
       "Service                                       92119\n",
       "Cleanliness                                   93822\n",
       "Overall                                           0\n",
       "Value                                         92412\n",
       "Sleep Quality                                635069\n",
       "Rooms                                        182349\n",
       "Location                                     230504\n",
       "Business service (e.g., internet access)    1069297\n",
       "Check in / front desk                        855563\n",
       "Business service                            1033866\n",
       "feature                                           0\n",
       "dtype: int64"
      ]
     },
     "execution_count": 18,
     "metadata": {},
     "output_type": "execute_result"
    }
   ],
   "source": [
    "df.isnull().sum()"
   ]
  },
  {
   "cell_type": "code",
   "execution_count": 19,
   "metadata": {},
   "outputs": [],
   "source": [
    "#fill Nan value with O as Machine learning need the number input in modeling part\n",
    "df.fillna(0, inplace = True)"
   ]
  },
  {
   "cell_type": "code",
   "execution_count": 20,
   "metadata": {},
   "outputs": [],
   "source": [
    "#drop the unnecessary rows\n",
    "df=df.drop(columns=[\"Title\",\"Content\"])"
   ]
  },
  {
   "cell_type": "code",
   "execution_count": 21,
   "metadata": {},
   "outputs": [
    {
     "data": {
      "text/plain": [
       "Service                                     object\n",
       "Cleanliness                                 object\n",
       "Overall                                     object\n",
       "Value                                       object\n",
       "Sleep Quality                               object\n",
       "Rooms                                       object\n",
       "Location                                    object\n",
       "Business service (e.g., internet access)    object\n",
       "Check in / front desk                       object\n",
       "Business service                            object\n",
       "feature                                     object\n",
       "dtype: object"
      ]
     },
     "execution_count": 21,
     "metadata": {},
     "output_type": "execute_result"
    }
   ],
   "source": [
    "#check the data type in dataframe\n",
    "df.dtypes"
   ]
  },
  {
   "cell_type": "code",
   "execution_count": 23,
   "metadata": {},
   "outputs": [],
   "source": [
    "#change the data type\n",
    "df[[\"Service\",\"Cleanliness\",\"Overall\",\"Value\",\"Sleep Quality\",\"Rooms\",\"Location\",\"Business service (e.g., internet access)\",\\\n",
    "    \"Check in / front desk\",\"Business service\"]]=df[[\"Service\",\"Cleanliness\",\"Overall\",\"Value\",\"Sleep Quality\",\"Rooms\",\\\n",
    "                                                     \"Location\",\"Business service (e.g., internet access)\",\\\n",
    "                                                     \"Check in / front desk\",\"Business service\"]].astype('float')"
   ]
  },
  {
   "cell_type": "code",
   "execution_count": 24,
   "metadata": {},
   "outputs": [],
   "source": [
    "#change the data type\n",
    "df[\"feature\"]= df[\"feature\"].astype('str')"
   ]
  },
  {
   "cell_type": "code",
   "execution_count": 26,
   "metadata": {},
   "outputs": [],
   "source": [
    "#rename the columns\n",
    "df=df.rename(columns={\"Service\": \"service\", \"Cleanliness\": \"cleanliness\",\"Overall\":\"overall\",\"Value\":\"value\",\\\n",
    "                   \"Sleep Quality\":\"sleep_quality\",\"Rooms\":\"room\",\"Location\":\"location\",\\\n",
    "                  \"Business service (e.g., internet access)\":\"internet_service\",\"Check in / front desk\":\"front_desk\",\\\n",
    "                     \"Business service\":\"business_service\"})"
   ]
  },
  {
   "cell_type": "code",
   "execution_count": 27,
   "metadata": {},
   "outputs": [
    {
     "data": {
      "text/html": [
       "<div>\n",
       "<style scoped>\n",
       "    .dataframe tbody tr th:only-of-type {\n",
       "        vertical-align: middle;\n",
       "    }\n",
       "\n",
       "    .dataframe tbody tr th {\n",
       "        vertical-align: top;\n",
       "    }\n",
       "\n",
       "    .dataframe thead th {\n",
       "        text-align: right;\n",
       "    }\n",
       "</style>\n",
       "<table border=\"1\" class=\"dataframe\">\n",
       "  <thead>\n",
       "    <tr style=\"text-align: right;\">\n",
       "      <th></th>\n",
       "      <th>service</th>\n",
       "      <th>cleanliness</th>\n",
       "      <th>overall</th>\n",
       "      <th>value</th>\n",
       "      <th>sleep_quality</th>\n",
       "      <th>room</th>\n",
       "      <th>location</th>\n",
       "      <th>internet_service</th>\n",
       "      <th>front_desk</th>\n",
       "      <th>business_service</th>\n",
       "    </tr>\n",
       "  </thead>\n",
       "  <tbody>\n",
       "    <tr>\n",
       "      <th>count</th>\n",
       "      <td>1.178978e+06</td>\n",
       "      <td>1.178978e+06</td>\n",
       "      <td>1.178978e+06</td>\n",
       "      <td>1.178978e+06</td>\n",
       "      <td>1.178978e+06</td>\n",
       "      <td>1.178978e+06</td>\n",
       "      <td>1.178978e+06</td>\n",
       "      <td>1.178978e+06</td>\n",
       "      <td>1.178978e+06</td>\n",
       "      <td>1.178978e+06</td>\n",
       "    </tr>\n",
       "    <tr>\n",
       "      <th>mean</th>\n",
       "      <td>3.568174e+00</td>\n",
       "      <td>3.719172e+00</td>\n",
       "      <td>3.924541e+00</td>\n",
       "      <td>3.416410e+00</td>\n",
       "      <td>1.881992e+00</td>\n",
       "      <td>3.159192e+00</td>\n",
       "      <td>3.171195e+00</td>\n",
       "      <td>3.340427e-01</td>\n",
       "      <td>7.920971e-01</td>\n",
       "      <td>8.126275e-02</td>\n",
       "    </tr>\n",
       "    <tr>\n",
       "      <th>std</th>\n",
       "      <td>1.764858e+00</td>\n",
       "      <td>1.751856e+00</td>\n",
       "      <td>1.212681e+00</td>\n",
       "      <td>1.777834e+00</td>\n",
       "      <td>2.179958e+00</td>\n",
       "      <td>1.902424e+00</td>\n",
       "      <td>2.164972e+00</td>\n",
       "      <td>1.111197e+00</td>\n",
       "      <td>1.769487e+00</td>\n",
       "      <td>8.585213e-01</td>\n",
       "    </tr>\n",
       "    <tr>\n",
       "      <th>min</th>\n",
       "      <td>-1.000000e+00</td>\n",
       "      <td>-1.000000e+00</td>\n",
       "      <td>0.000000e+00</td>\n",
       "      <td>-1.000000e+00</td>\n",
       "      <td>0.000000e+00</td>\n",
       "      <td>-1.000000e+00</td>\n",
       "      <td>-1.000000e+00</td>\n",
       "      <td>0.000000e+00</td>\n",
       "      <td>-1.000000e+00</td>\n",
       "      <td>-1.000000e+00</td>\n",
       "    </tr>\n",
       "    <tr>\n",
       "      <th>25%</th>\n",
       "      <td>3.000000e+00</td>\n",
       "      <td>3.000000e+00</td>\n",
       "      <td>3.000000e+00</td>\n",
       "      <td>3.000000e+00</td>\n",
       "      <td>0.000000e+00</td>\n",
       "      <td>2.000000e+00</td>\n",
       "      <td>0.000000e+00</td>\n",
       "      <td>0.000000e+00</td>\n",
       "      <td>0.000000e+00</td>\n",
       "      <td>0.000000e+00</td>\n",
       "    </tr>\n",
       "    <tr>\n",
       "      <th>50%</th>\n",
       "      <td>4.000000e+00</td>\n",
       "      <td>4.000000e+00</td>\n",
       "      <td>4.000000e+00</td>\n",
       "      <td>4.000000e+00</td>\n",
       "      <td>0.000000e+00</td>\n",
       "      <td>4.000000e+00</td>\n",
       "      <td>4.000000e+00</td>\n",
       "      <td>0.000000e+00</td>\n",
       "      <td>0.000000e+00</td>\n",
       "      <td>0.000000e+00</td>\n",
       "    </tr>\n",
       "    <tr>\n",
       "      <th>75%</th>\n",
       "      <td>5.000000e+00</td>\n",
       "      <td>5.000000e+00</td>\n",
       "      <td>5.000000e+00</td>\n",
       "      <td>5.000000e+00</td>\n",
       "      <td>4.000000e+00</td>\n",
       "      <td>5.000000e+00</td>\n",
       "      <td>5.000000e+00</td>\n",
       "      <td>0.000000e+00</td>\n",
       "      <td>0.000000e+00</td>\n",
       "      <td>0.000000e+00</td>\n",
       "    </tr>\n",
       "    <tr>\n",
       "      <th>max</th>\n",
       "      <td>5.000000e+00</td>\n",
       "      <td>5.000000e+00</td>\n",
       "      <td>5.000000e+00</td>\n",
       "      <td>5.000000e+00</td>\n",
       "      <td>5.000000e+00</td>\n",
       "      <td>5.000000e+00</td>\n",
       "      <td>5.000000e+00</td>\n",
       "      <td>5.000000e+00</td>\n",
       "      <td>5.000000e+00</td>\n",
       "      <td>5.000000e+00</td>\n",
       "    </tr>\n",
       "  </tbody>\n",
       "</table>\n",
       "</div>"
      ],
      "text/plain": [
       "            service   cleanliness       overall         value  sleep_quality  \\\n",
       "count  1.178978e+06  1.178978e+06  1.178978e+06  1.178978e+06   1.178978e+06   \n",
       "mean   3.568174e+00  3.719172e+00  3.924541e+00  3.416410e+00   1.881992e+00   \n",
       "std    1.764858e+00  1.751856e+00  1.212681e+00  1.777834e+00   2.179958e+00   \n",
       "min   -1.000000e+00 -1.000000e+00  0.000000e+00 -1.000000e+00   0.000000e+00   \n",
       "25%    3.000000e+00  3.000000e+00  3.000000e+00  3.000000e+00   0.000000e+00   \n",
       "50%    4.000000e+00  4.000000e+00  4.000000e+00  4.000000e+00   0.000000e+00   \n",
       "75%    5.000000e+00  5.000000e+00  5.000000e+00  5.000000e+00   4.000000e+00   \n",
       "max    5.000000e+00  5.000000e+00  5.000000e+00  5.000000e+00   5.000000e+00   \n",
       "\n",
       "               room      location  internet_service    front_desk  \\\n",
       "count  1.178978e+06  1.178978e+06      1.178978e+06  1.178978e+06   \n",
       "mean   3.159192e+00  3.171195e+00      3.340427e-01  7.920971e-01   \n",
       "std    1.902424e+00  2.164972e+00      1.111197e+00  1.769487e+00   \n",
       "min   -1.000000e+00 -1.000000e+00      0.000000e+00 -1.000000e+00   \n",
       "25%    2.000000e+00  0.000000e+00      0.000000e+00  0.000000e+00   \n",
       "50%    4.000000e+00  4.000000e+00      0.000000e+00  0.000000e+00   \n",
       "75%    5.000000e+00  5.000000e+00      0.000000e+00  0.000000e+00   \n",
       "max    5.000000e+00  5.000000e+00      5.000000e+00  5.000000e+00   \n",
       "\n",
       "       business_service  \n",
       "count      1.178978e+06  \n",
       "mean       8.126275e-02  \n",
       "std        8.585213e-01  \n",
       "min       -1.000000e+00  \n",
       "25%        0.000000e+00  \n",
       "50%        0.000000e+00  \n",
       "75%        0.000000e+00  \n",
       "max        5.000000e+00  "
      ]
     },
     "execution_count": 27,
     "metadata": {},
     "output_type": "execute_result"
    }
   ],
   "source": [
    "#check the statistic information\n",
    "df.describe()"
   ]
  },
  {
   "cell_type": "markdown",
   "metadata": {},
   "source": [
    "There is the outlier -1 in the dataset. -1 is an impossible value for the Tripadvisor rating system. I also realize that there is no rating 1 existing in the dataset. I think it is an error when collecting or converting the data. -1 should be 1. Thus, I replace all -1 with value 1"
   ]
  },
  {
   "cell_type": "code",
   "execution_count": 28,
   "metadata": {},
   "outputs": [],
   "source": [
    "#drop the outliers\n",
    "df=df.replace(-1, 1)"
   ]
  },
  {
   "cell_type": "code",
   "execution_count": 29,
   "metadata": {},
   "outputs": [
    {
     "data": {
      "text/html": [
       "<div>\n",
       "<style scoped>\n",
       "    .dataframe tbody tr th:only-of-type {\n",
       "        vertical-align: middle;\n",
       "    }\n",
       "\n",
       "    .dataframe tbody tr th {\n",
       "        vertical-align: top;\n",
       "    }\n",
       "\n",
       "    .dataframe thead th {\n",
       "        text-align: right;\n",
       "    }\n",
       "</style>\n",
       "<table border=\"1\" class=\"dataframe\">\n",
       "  <thead>\n",
       "    <tr style=\"text-align: right;\">\n",
       "      <th></th>\n",
       "      <th>service</th>\n",
       "      <th>cleanliness</th>\n",
       "      <th>overall</th>\n",
       "      <th>value</th>\n",
       "      <th>sleep_quality</th>\n",
       "      <th>room</th>\n",
       "      <th>location</th>\n",
       "      <th>internet_service</th>\n",
       "      <th>front_desk</th>\n",
       "      <th>business_service</th>\n",
       "    </tr>\n",
       "  </thead>\n",
       "  <tbody>\n",
       "    <tr>\n",
       "      <th>count</th>\n",
       "      <td>1.178978e+06</td>\n",
       "      <td>1.178978e+06</td>\n",
       "      <td>1.178978e+06</td>\n",
       "      <td>1.178978e+06</td>\n",
       "      <td>1.178978e+06</td>\n",
       "      <td>1.178978e+06</td>\n",
       "      <td>1.178978e+06</td>\n",
       "      <td>1.178978e+06</td>\n",
       "      <td>1.178978e+06</td>\n",
       "      <td>1.178978e+06</td>\n",
       "    </tr>\n",
       "    <tr>\n",
       "      <th>mean</th>\n",
       "      <td>3.626773e+00</td>\n",
       "      <td>3.780807e+00</td>\n",
       "      <td>3.924541e+00</td>\n",
       "      <td>3.491490e+00</td>\n",
       "      <td>1.881992e+00</td>\n",
       "      <td>3.214884e+00</td>\n",
       "      <td>3.290890e+00</td>\n",
       "      <td>3.340427e-01</td>\n",
       "      <td>9.117515e-01</td>\n",
       "      <td>2.411266e-01</td>\n",
       "    </tr>\n",
       "    <tr>\n",
       "      <th>std</th>\n",
       "      <td>1.641070e+00</td>\n",
       "      <td>1.614540e+00</td>\n",
       "      <td>1.212681e+00</td>\n",
       "      <td>1.625438e+00</td>\n",
       "      <td>2.179958e+00</td>\n",
       "      <td>1.806718e+00</td>\n",
       "      <td>1.978288e+00</td>\n",
       "      <td>1.111197e+00</td>\n",
       "      <td>1.710910e+00</td>\n",
       "      <td>8.279616e-01</td>\n",
       "    </tr>\n",
       "    <tr>\n",
       "      <th>min</th>\n",
       "      <td>0.000000e+00</td>\n",
       "      <td>0.000000e+00</td>\n",
       "      <td>0.000000e+00</td>\n",
       "      <td>0.000000e+00</td>\n",
       "      <td>0.000000e+00</td>\n",
       "      <td>0.000000e+00</td>\n",
       "      <td>0.000000e+00</td>\n",
       "      <td>0.000000e+00</td>\n",
       "      <td>0.000000e+00</td>\n",
       "      <td>0.000000e+00</td>\n",
       "    </tr>\n",
       "    <tr>\n",
       "      <th>25%</th>\n",
       "      <td>3.000000e+00</td>\n",
       "      <td>3.000000e+00</td>\n",
       "      <td>3.000000e+00</td>\n",
       "      <td>3.000000e+00</td>\n",
       "      <td>0.000000e+00</td>\n",
       "      <td>2.000000e+00</td>\n",
       "      <td>1.000000e+00</td>\n",
       "      <td>0.000000e+00</td>\n",
       "      <td>0.000000e+00</td>\n",
       "      <td>0.000000e+00</td>\n",
       "    </tr>\n",
       "    <tr>\n",
       "      <th>50%</th>\n",
       "      <td>4.000000e+00</td>\n",
       "      <td>4.000000e+00</td>\n",
       "      <td>4.000000e+00</td>\n",
       "      <td>4.000000e+00</td>\n",
       "      <td>0.000000e+00</td>\n",
       "      <td>4.000000e+00</td>\n",
       "      <td>4.000000e+00</td>\n",
       "      <td>0.000000e+00</td>\n",
       "      <td>0.000000e+00</td>\n",
       "      <td>0.000000e+00</td>\n",
       "    </tr>\n",
       "    <tr>\n",
       "      <th>75%</th>\n",
       "      <td>5.000000e+00</td>\n",
       "      <td>5.000000e+00</td>\n",
       "      <td>5.000000e+00</td>\n",
       "      <td>5.000000e+00</td>\n",
       "      <td>4.000000e+00</td>\n",
       "      <td>5.000000e+00</td>\n",
       "      <td>5.000000e+00</td>\n",
       "      <td>0.000000e+00</td>\n",
       "      <td>1.000000e+00</td>\n",
       "      <td>0.000000e+00</td>\n",
       "    </tr>\n",
       "    <tr>\n",
       "      <th>max</th>\n",
       "      <td>5.000000e+00</td>\n",
       "      <td>5.000000e+00</td>\n",
       "      <td>5.000000e+00</td>\n",
       "      <td>5.000000e+00</td>\n",
       "      <td>5.000000e+00</td>\n",
       "      <td>5.000000e+00</td>\n",
       "      <td>5.000000e+00</td>\n",
       "      <td>5.000000e+00</td>\n",
       "      <td>5.000000e+00</td>\n",
       "      <td>5.000000e+00</td>\n",
       "    </tr>\n",
       "  </tbody>\n",
       "</table>\n",
       "</div>"
      ],
      "text/plain": [
       "            service   cleanliness       overall         value  sleep_quality  \\\n",
       "count  1.178978e+06  1.178978e+06  1.178978e+06  1.178978e+06   1.178978e+06   \n",
       "mean   3.626773e+00  3.780807e+00  3.924541e+00  3.491490e+00   1.881992e+00   \n",
       "std    1.641070e+00  1.614540e+00  1.212681e+00  1.625438e+00   2.179958e+00   \n",
       "min    0.000000e+00  0.000000e+00  0.000000e+00  0.000000e+00   0.000000e+00   \n",
       "25%    3.000000e+00  3.000000e+00  3.000000e+00  3.000000e+00   0.000000e+00   \n",
       "50%    4.000000e+00  4.000000e+00  4.000000e+00  4.000000e+00   0.000000e+00   \n",
       "75%    5.000000e+00  5.000000e+00  5.000000e+00  5.000000e+00   4.000000e+00   \n",
       "max    5.000000e+00  5.000000e+00  5.000000e+00  5.000000e+00   5.000000e+00   \n",
       "\n",
       "               room      location  internet_service    front_desk  \\\n",
       "count  1.178978e+06  1.178978e+06      1.178978e+06  1.178978e+06   \n",
       "mean   3.214884e+00  3.290890e+00      3.340427e-01  9.117515e-01   \n",
       "std    1.806718e+00  1.978288e+00      1.111197e+00  1.710910e+00   \n",
       "min    0.000000e+00  0.000000e+00      0.000000e+00  0.000000e+00   \n",
       "25%    2.000000e+00  1.000000e+00      0.000000e+00  0.000000e+00   \n",
       "50%    4.000000e+00  4.000000e+00      0.000000e+00  0.000000e+00   \n",
       "75%    5.000000e+00  5.000000e+00      0.000000e+00  1.000000e+00   \n",
       "max    5.000000e+00  5.000000e+00      5.000000e+00  5.000000e+00   \n",
       "\n",
       "       business_service  \n",
       "count      1.178978e+06  \n",
       "mean       2.411266e-01  \n",
       "std        8.279616e-01  \n",
       "min        0.000000e+00  \n",
       "25%        0.000000e+00  \n",
       "50%        0.000000e+00  \n",
       "75%        0.000000e+00  \n",
       "max        5.000000e+00  "
      ]
     },
     "execution_count": 29,
     "metadata": {},
     "output_type": "execute_result"
    }
   ],
   "source": [
    "#check the data again\n",
    "df.describe()"
   ]
  },
  {
   "cell_type": "code",
   "execution_count": 30,
   "metadata": {},
   "outputs": [
    {
     "data": {
      "text/plain": [
       "(1178978, 11)"
      ]
     },
     "execution_count": 30,
     "metadata": {},
     "output_type": "execute_result"
    }
   ],
   "source": [
    "#check the data shape again\n",
    "df.shape"
   ]
  },
  {
   "cell_type": "code",
   "execution_count": 31,
   "metadata": {},
   "outputs": [
    {
     "data": {
      "text/html": [
       "<div>\n",
       "<style scoped>\n",
       "    .dataframe tbody tr th:only-of-type {\n",
       "        vertical-align: middle;\n",
       "    }\n",
       "\n",
       "    .dataframe tbody tr th {\n",
       "        vertical-align: top;\n",
       "    }\n",
       "\n",
       "    .dataframe thead th {\n",
       "        text-align: right;\n",
       "    }\n",
       "</style>\n",
       "<table border=\"1\" class=\"dataframe\">\n",
       "  <thead>\n",
       "    <tr style=\"text-align: right;\">\n",
       "      <th></th>\n",
       "      <th>service</th>\n",
       "      <th>cleanliness</th>\n",
       "      <th>overall</th>\n",
       "      <th>value</th>\n",
       "      <th>sleep_quality</th>\n",
       "      <th>room</th>\n",
       "      <th>location</th>\n",
       "      <th>internet_service</th>\n",
       "      <th>front_desk</th>\n",
       "      <th>business_service</th>\n",
       "      <th>feature</th>\n",
       "    </tr>\n",
       "  </thead>\n",
       "  <tbody>\n",
       "    <tr>\n",
       "      <th>0</th>\n",
       "      <td>5.0</td>\n",
       "      <td>5.0</td>\n",
       "      <td>5.0</td>\n",
       "      <td>5.0</td>\n",
       "      <td>5.0</td>\n",
       "      <td>5.0</td>\n",
       "      <td>5.0</td>\n",
       "      <td>0.0</td>\n",
       "      <td>0.0</td>\n",
       "      <td>0.0</td>\n",
       "      <td>“Great place and location” Usually stay near t...</td>\n",
       "    </tr>\n",
       "    <tr>\n",
       "      <th>1</th>\n",
       "      <td>4.0</td>\n",
       "      <td>4.0</td>\n",
       "      <td>4.0</td>\n",
       "      <td>4.0</td>\n",
       "      <td>4.0</td>\n",
       "      <td>4.0</td>\n",
       "      <td>5.0</td>\n",
       "      <td>0.0</td>\n",
       "      <td>0.0</td>\n",
       "      <td>0.0</td>\n",
       "      <td>“Nice stay, nice surroundings” Stayed at this ...</td>\n",
       "    </tr>\n",
       "    <tr>\n",
       "      <th>2</th>\n",
       "      <td>5.0</td>\n",
       "      <td>5.0</td>\n",
       "      <td>4.0</td>\n",
       "      <td>3.0</td>\n",
       "      <td>3.0</td>\n",
       "      <td>5.0</td>\n",
       "      <td>5.0</td>\n",
       "      <td>0.0</td>\n",
       "      <td>0.0</td>\n",
       "      <td>0.0</td>\n",
       "      <td>“Perfect for an overnight just off I-95” Staye...</td>\n",
       "    </tr>\n",
       "    <tr>\n",
       "      <th>3</th>\n",
       "      <td>5.0</td>\n",
       "      <td>5.0</td>\n",
       "      <td>5.0</td>\n",
       "      <td>4.0</td>\n",
       "      <td>5.0</td>\n",
       "      <td>5.0</td>\n",
       "      <td>5.0</td>\n",
       "      <td>0.0</td>\n",
       "      <td>0.0</td>\n",
       "      <td>0.0</td>\n",
       "      <td>“Great Hotel” I just stayed here last weekend ...</td>\n",
       "    </tr>\n",
       "    <tr>\n",
       "      <th>4</th>\n",
       "      <td>5.0</td>\n",
       "      <td>5.0</td>\n",
       "      <td>5.0</td>\n",
       "      <td>4.0</td>\n",
       "      <td>5.0</td>\n",
       "      <td>5.0</td>\n",
       "      <td>5.0</td>\n",
       "      <td>0.0</td>\n",
       "      <td>0.0</td>\n",
       "      <td>0.0</td>\n",
       "      <td>“good room for handicapped person” My mother w...</td>\n",
       "    </tr>\n",
       "  </tbody>\n",
       "</table>\n",
       "</div>"
      ],
      "text/plain": [
       "   service  cleanliness  overall  value  sleep_quality  room  location  \\\n",
       "0      5.0          5.0      5.0    5.0            5.0   5.0       5.0   \n",
       "1      4.0          4.0      4.0    4.0            4.0   4.0       5.0   \n",
       "2      5.0          5.0      4.0    3.0            3.0   5.0       5.0   \n",
       "3      5.0          5.0      5.0    4.0            5.0   5.0       5.0   \n",
       "4      5.0          5.0      5.0    4.0            5.0   5.0       5.0   \n",
       "\n",
       "   internet_service  front_desk  business_service  \\\n",
       "0               0.0         0.0               0.0   \n",
       "1               0.0         0.0               0.0   \n",
       "2               0.0         0.0               0.0   \n",
       "3               0.0         0.0               0.0   \n",
       "4               0.0         0.0               0.0   \n",
       "\n",
       "                                             feature  \n",
       "0  “Great place and location” Usually stay near t...  \n",
       "1  “Nice stay, nice surroundings” Stayed at this ...  \n",
       "2  “Perfect for an overnight just off I-95” Staye...  \n",
       "3  “Great Hotel” I just stayed here last weekend ...  \n",
       "4  “good room for handicapped person” My mother w...  "
      ]
     },
     "execution_count": 31,
     "metadata": {},
     "output_type": "execute_result"
    }
   ],
   "source": [
    "df.head()"
   ]
  },
  {
   "cell_type": "code",
   "execution_count": 32,
   "metadata": {},
   "outputs": [],
   "source": [
    "df.to_csv('./tripadvisor_clean.csv')"
   ]
  },
  {
   "cell_type": "markdown",
   "metadata": {},
   "source": [
    "#### Data Dictionary"
   ]
  },
  {
   "cell_type": "markdown",
   "metadata": {},
   "source": [
    "|Features                    | Type    |Description\n",
    "|:---------------------------|:--------|:----------------------------------------------------------------------------------------\n",
    "| feature                    | string  |customer review combine review title and content\n",
    "| service                    | float   |rating 1 to 5 , 0: no rating for this aspect\n",
    "| cleanliness                | float   |rating 1 to 5 , 0: no rating for this aspect\n",
    "| overall                    | float   |rating 1 to 5 , 0: no rating for this aspect\n",
    "| value                      | float   |rating 1 to 5 , 0: no rating for this aspect\n",
    "| sleep_quality\t             | float   |rating 1 to 5 , 0: no rating for this aspect\n",
    "| room                       | float   |rating 1 to 5 , 0: no rating for this aspect\n",
    "| location                   | float   |rating 1 to 5 , 0: no rating for this aspect\n",
    "| internet_service           | float   |rating 1 to 5 , 0: no rating for this aspect\n",
    "| business_service           | float   |rating 1 to 5 , 0: no rating for this aspect           \n",
    "| front_desk                 | float   |rating 1 to 5 , 0: no rating for this aspect"
   ]
  },
  {
   "cell_type": "markdown",
   "metadata": {},
   "source": [
    "## 3. EDA"
   ]
  },
  {
   "cell_type": "code",
   "execution_count": 33,
   "metadata": {},
   "outputs": [],
   "source": [
    "df = pd.read_csv('./tripadvisor_clean.csv')"
   ]
  },
  {
   "cell_type": "code",
   "execution_count": 35,
   "metadata": {},
   "outputs": [
    {
     "data": {
      "text/html": [
       "<div>\n",
       "<style scoped>\n",
       "    .dataframe tbody tr th:only-of-type {\n",
       "        vertical-align: middle;\n",
       "    }\n",
       "\n",
       "    .dataframe tbody tr th {\n",
       "        vertical-align: top;\n",
       "    }\n",
       "\n",
       "    .dataframe thead th {\n",
       "        text-align: right;\n",
       "    }\n",
       "</style>\n",
       "<table border=\"1\" class=\"dataframe\">\n",
       "  <thead>\n",
       "    <tr style=\"text-align: right;\">\n",
       "      <th></th>\n",
       "      <th>Unnamed: 0</th>\n",
       "      <th>service</th>\n",
       "      <th>cleanliness</th>\n",
       "      <th>overall</th>\n",
       "      <th>value</th>\n",
       "      <th>sleep_quality</th>\n",
       "      <th>room</th>\n",
       "      <th>location</th>\n",
       "      <th>internet_service</th>\n",
       "      <th>front_desk</th>\n",
       "      <th>business_service</th>\n",
       "      <th>feature</th>\n",
       "    </tr>\n",
       "  </thead>\n",
       "  <tbody>\n",
       "    <tr>\n",
       "      <th>0</th>\n",
       "      <td>0</td>\n",
       "      <td>5.0</td>\n",
       "      <td>5.0</td>\n",
       "      <td>5.0</td>\n",
       "      <td>5.0</td>\n",
       "      <td>5.0</td>\n",
       "      <td>5.0</td>\n",
       "      <td>5.0</td>\n",
       "      <td>0.0</td>\n",
       "      <td>0.0</td>\n",
       "      <td>0.0</td>\n",
       "      <td>“Great place and location” Usually stay near t...</td>\n",
       "    </tr>\n",
       "    <tr>\n",
       "      <th>1</th>\n",
       "      <td>1</td>\n",
       "      <td>4.0</td>\n",
       "      <td>4.0</td>\n",
       "      <td>4.0</td>\n",
       "      <td>4.0</td>\n",
       "      <td>4.0</td>\n",
       "      <td>4.0</td>\n",
       "      <td>5.0</td>\n",
       "      <td>0.0</td>\n",
       "      <td>0.0</td>\n",
       "      <td>0.0</td>\n",
       "      <td>“Nice stay, nice surroundings” Stayed at this ...</td>\n",
       "    </tr>\n",
       "    <tr>\n",
       "      <th>2</th>\n",
       "      <td>2</td>\n",
       "      <td>5.0</td>\n",
       "      <td>5.0</td>\n",
       "      <td>4.0</td>\n",
       "      <td>3.0</td>\n",
       "      <td>3.0</td>\n",
       "      <td>5.0</td>\n",
       "      <td>5.0</td>\n",
       "      <td>0.0</td>\n",
       "      <td>0.0</td>\n",
       "      <td>0.0</td>\n",
       "      <td>“Perfect for an overnight just off I-95” Staye...</td>\n",
       "    </tr>\n",
       "    <tr>\n",
       "      <th>3</th>\n",
       "      <td>3</td>\n",
       "      <td>5.0</td>\n",
       "      <td>5.0</td>\n",
       "      <td>5.0</td>\n",
       "      <td>4.0</td>\n",
       "      <td>5.0</td>\n",
       "      <td>5.0</td>\n",
       "      <td>5.0</td>\n",
       "      <td>0.0</td>\n",
       "      <td>0.0</td>\n",
       "      <td>0.0</td>\n",
       "      <td>“Great Hotel” I just stayed here last weekend ...</td>\n",
       "    </tr>\n",
       "    <tr>\n",
       "      <th>4</th>\n",
       "      <td>4</td>\n",
       "      <td>5.0</td>\n",
       "      <td>5.0</td>\n",
       "      <td>5.0</td>\n",
       "      <td>4.0</td>\n",
       "      <td>5.0</td>\n",
       "      <td>5.0</td>\n",
       "      <td>5.0</td>\n",
       "      <td>0.0</td>\n",
       "      <td>0.0</td>\n",
       "      <td>0.0</td>\n",
       "      <td>“good room for handicapped person” My mother w...</td>\n",
       "    </tr>\n",
       "  </tbody>\n",
       "</table>\n",
       "</div>"
      ],
      "text/plain": [
       "   Unnamed: 0  service  cleanliness  overall  value  sleep_quality  room  \\\n",
       "0           0      5.0          5.0      5.0    5.0            5.0   5.0   \n",
       "1           1      4.0          4.0      4.0    4.0            4.0   4.0   \n",
       "2           2      5.0          5.0      4.0    3.0            3.0   5.0   \n",
       "3           3      5.0          5.0      5.0    4.0            5.0   5.0   \n",
       "4           4      5.0          5.0      5.0    4.0            5.0   5.0   \n",
       "\n",
       "   location  internet_service  front_desk  business_service  \\\n",
       "0       5.0               0.0         0.0               0.0   \n",
       "1       5.0               0.0         0.0               0.0   \n",
       "2       5.0               0.0         0.0               0.0   \n",
       "3       5.0               0.0         0.0               0.0   \n",
       "4       5.0               0.0         0.0               0.0   \n",
       "\n",
       "                                             feature  \n",
       "0  “Great place and location” Usually stay near t...  \n",
       "1  “Nice stay, nice surroundings” Stayed at this ...  \n",
       "2  “Perfect for an overnight just off I-95” Staye...  \n",
       "3  “Great Hotel” I just stayed here last weekend ...  \n",
       "4  “good room for handicapped person” My mother w...  "
      ]
     },
     "execution_count": 35,
     "metadata": {},
     "output_type": "execute_result"
    }
   ],
   "source": [
    "df.head()"
   ]
  },
  {
   "cell_type": "code",
   "execution_count": 36,
   "metadata": {},
   "outputs": [],
   "source": [
    "#drop Unnamed\n",
    "df=df.drop(columns=[\"Unnamed: 0\"])"
   ]
  },
  {
   "cell_type": "code",
   "execution_count": 37,
   "metadata": {},
   "outputs": [
    {
     "data": {
      "image/png": "[encoded data removed]",
      "text/plain": [
       "<Figure size 432x144 with 1 Axes>"
      ]
     },
     "metadata": {
      "needs_background": "light"
     },
     "output_type": "display_data"
    }
   ],
   "source": [
    "#plot the distribution plot for Target variable\n",
    "ax=df.service.value_counts().plot(kind=\"barh\",figsize=(6,2),title=\"Service\",width=0.8)\n",
    "ax.set_facecolor('white')"
   ]
  },
  {
   "cell_type": "code",
   "execution_count": 38,
   "metadata": {
    "scrolled": true
   },
   "outputs": [
    {
     "data": {
      "image/png": "[encoded data removed]",
      "text/plain": [
       "<Figure size 432x144 with 1 Axes>"
      ]
     },
     "metadata": {
      "needs_background": "light"
     },
     "output_type": "display_data"
    }
   ],
   "source": [
    "#plot the distribution plot for Target variable\n",
    "ax=df.cleanliness.value_counts().plot(kind=\"barh\",figsize=(6,2),title=\"Cleanliness\",width=0.8)\n",
    "ax.set_facecolor('white')"
   ]
  },
  {
   "cell_type": "code",
   "execution_count": 39,
   "metadata": {
    "scrolled": true
   },
   "outputs": [
    {
     "data": {
      "image/png": "[encoded data removed]",
      "text/plain": [
       "<Figure size 432x144 with 1 Axes>"
      ]
     },
     "metadata": {
      "needs_background": "light"
     },
     "output_type": "display_data"
    }
   ],
   "source": [
    "#plot the distribution plot for Target variable\n",
    "ax=df.value.value_counts().plot(kind=\"barh\",figsize=(6,2),title=\"Value\",width=0.8)\n",
    "ax.set_facecolor('white')"
   ]
  },
  {
   "cell_type": "code",
   "execution_count": 40,
   "metadata": {},
   "outputs": [
    {
     "data": {
      "image/png": "[encoded data removed]",
      "text/plain": [
       "<Figure size 432x144 with 1 Axes>"
      ]
     },
     "metadata": {
      "needs_background": "light"
     },
     "output_type": "display_data"
    }
   ],
   "source": [
    "#plot the distribution plot for Target variable\n",
    "ax=df.room.value_counts().plot(kind=\"barh\",figsize=(6,2),title=\"Room\",width=0.8)\n",
    "ax.set_facecolor('white')"
   ]
  },
  {
   "cell_type": "code",
   "execution_count": 41,
   "metadata": {},
   "outputs": [
    {
     "data": {
      "image/png": "[encoded data removed]",
      "text/plain": [
       "<Figure size 432x144 with 1 Axes>"
      ]
     },
     "metadata": {
      "needs_background": "light"
     },
     "output_type": "display_data"
    }
   ],
   "source": [
    "#plot the distribution plot for Target variable\n",
    "ax=df.sleep_quality.value_counts().plot(kind=\"barh\",figsize=(6,2),title=\"Sleep Quality\",width=0.8)\n",
    "ax.set_facecolor('white')"
   ]
  },
  {
   "cell_type": "code",
   "execution_count": 42,
   "metadata": {},
   "outputs": [
    {
     "data": {
      "image/png": "[encoded data removed]",
      "text/plain": [
       "<Figure size 432x144 with 1 Axes>"
      ]
     },
     "metadata": {
      "needs_background": "light"
     },
     "output_type": "display_data"
    }
   ],
   "source": [
    "#plot the distribution plot for Target variable\n",
    "ax=df.location.value_counts().plot(kind=\"barh\",figsize=(6,2),title=\"Location\",width=0.8)\n",
    "ax.set_facecolor('white')"
   ]
  },
  {
   "cell_type": "code",
   "execution_count": 43,
   "metadata": {},
   "outputs": [
    {
     "data": {
      "image/png": "[encoded data removed]",
      "text/plain": [
       "<Figure size 432x144 with 1 Axes>"
      ]
     },
     "metadata": {
      "needs_background": "light"
     },
     "output_type": "display_data"
    }
   ],
   "source": [
    "#plot the distribution plot for Target variable\n",
    "ax=df.business_service.value_counts().plot(kind=\"barh\",figsize=(6,2),title=\"Business Service\",width=0.8)\n",
    "ax.set_facecolor('white')"
   ]
  },
  {
   "cell_type": "code",
   "execution_count": 44,
   "metadata": {
    "scrolled": true
   },
   "outputs": [
    {
     "data": {
      "image/png": "[encoded data removed]",
      "text/plain": [
       "<Figure size 432x144 with 1 Axes>"
      ]
     },
     "metadata": {
      "needs_background": "light"
     },
     "output_type": "display_data"
    }
   ],
   "source": [
    "#plot the distribution plot for Target variable\n",
    "ax=df.overall.value_counts().plot(kind=\"barh\",figsize=(6,2),title=\"Overall\",width=0.8)\n",
    "ax.set_facecolor('white')"
   ]
  },
  {
   "cell_type": "code",
   "execution_count": 47,
   "metadata": {},
   "outputs": [
    {
     "data": {
      "image/png": "[encoded data removed]",
      "text/plain": [
       "<Figure size 432x144 with 1 Axes>"
      ]
     },
     "metadata": {
      "needs_background": "light"
     },
     "output_type": "display_data"
    }
   ],
   "source": [
    "#plot the distribution plot for Target variable\n",
    "ax=df.internet_service.value_counts().plot(kind=\"barh\",figsize=(6,2),title=\"internet_service\",width=0.8)\n",
    "ax.set_facecolor('white')"
   ]
  },
  {
   "cell_type": "code",
   "execution_count": 48,
   "metadata": {},
   "outputs": [
    {
     "data": {
      "image/png": "[encoded data removed]",
      "text/plain": [
       "<Figure size 432x144 with 1 Axes>"
      ]
     },
     "metadata": {
      "needs_background": "light"
     },
     "output_type": "display_data"
    }
   ],
   "source": [
    "#plot the distribution plot for Target variable\n",
    "ax=df.front_desk.value_counts().plot(kind=\"barh\",figsize=(6,2),title=\"front_desk\",width=0.8)\n",
    "ax.set_facecolor('white')"
   ]
  },
  {
   "cell_type": "markdown",
   "metadata": {},
   "source": [
    "It contains the unbalanced classes of rating for all rating aspects"
   ]
  },
  {
   "cell_type": "code",
   "execution_count": 49,
   "metadata": {},
   "outputs": [
    {
     "data": {
      "image/png": "[encoded data removed]",
      "text/plain": [
       "<Figure size 720x432 with 2 Axes>"
      ]
     },
     "metadata": {
      "needs_background": "light"
     },
     "output_type": "display_data"
    }
   ],
   "source": [
    "# Investigate for features that are highly correlated to one another.\n",
    "\n",
    "plt.figure(figsize = (10,6))\n",
    "plt.title('Correlation Between Features', size=12)\n",
    "matrix = np.triu(df.corr())\n",
    "sns.heatmap(df.corr(), annot=True, fmt='.1g', mask=matrix, cmap= 'coolwarm', square=True);"
   ]
  },
  {
   "cell_type": "markdown",
   "metadata": {},
   "source": [
    "#### Balance the class by downsize the majority group. As there is total 490 million Tripadvisor users,  we will assume the sample rating mean for Tripadviosr users will be normally distributed. According to the [sample size statistic calculation](https://www.surveysystem.com/sscalc.htm), we only need thousand of sample to achieve Confidence Level:95% and confidence interval:3% to represent the whole population's choices. Hence we will downsize the Majority group because we have enough data points. \n",
    "\n",
    "#### Also, from the Heatmap , we can see some aspects rating are high correlated to overall rating, some aspects are not. It is neccesory to identify the groups of words (called a topic) from a collection of documents that contains best information in the collection in order to have a better predict for the overall rating."
   ]
  },
  {
   "cell_type": "code",
   "execution_count": 21,
   "metadata": {},
   "outputs": [
    {
     "data": {
      "text/plain": [
       "3.0    80794\n",
       "5.0    80794\n",
       "4.0    80794\n",
       "2.0    80794\n",
       "1.0    80794\n",
       "Name: overall, dtype: int64"
      ]
     },
     "execution_count": 21,
     "metadata": {},
     "output_type": "execute_result"
    }
   ],
   "source": [
    "df_majority = df[df.overall==5]\n",
    "df_minority = df[df.overall==1]\n",
    " \n",
    "# Downsample majority class\n",
    "df_majority_downsampled = resample(df_majority, \n",
    "                                 replace=False,    # sample without replacement\n",
    "                                 n_samples=80794,     # to match minority class\n",
    "                                 random_state=123) # reproducible results\n",
    "df_3 = resample(df[df.overall==3], \n",
    "                                 replace=False,    # sample without replacement\n",
    "                                 n_samples=80794,     # to match minority class\n",
    "                                 random_state=123) # reproducible results\n",
    "df_4 = resample(df[df.overall==4], \n",
    "                                 replace=False,    # sample without replacement\n",
    "                                 n_samples=80794,     # to match minority class\n",
    "                                 random_state=123) # reproducible results\n",
    "df_2 = resample(df[df.overall==2], \n",
    "                                 replace=False,    # sample without replacement\n",
    "                                 n_samples=80794,     # to match minority class\n",
    "                                 random_state=123) # reproducible results\n",
    "  \n",
    " \n",
    "# Combine minority class with downsampled majority class\n",
    "overall = pd.concat([df_majority_downsampled, df_minority])\n",
    "overall = pd.concat([overall, df_3])\n",
    "overall = pd.concat([overall, df_4])\n",
    "overall = pd.concat([overall, df_2])\n",
    "overall[\"overall\"].value_counts()"
   ]
  },
  {
   "cell_type": "code",
   "execution_count": 22,
   "metadata": {},
   "outputs": [],
   "source": [
    "#change the data type\n",
    "overall[\"feature\"]= overall[\"feature\"].astype('str')"
   ]
  },
  {
   "cell_type": "code",
   "execution_count": 23,
   "metadata": {},
   "outputs": [],
   "source": [
    "overall=overall.drop(columns=[\"service\",\"room\",\"cleanliness\",\"location\",\"business_service\",\"sleep_quality\",\"value\",\\\n",
    "                      \"Check in / front desk\",\"Business service\"])"
   ]
  },
  {
   "cell_type": "code",
   "execution_count": 24,
   "metadata": {},
   "outputs": [
    {
     "data": {
      "text/plain": [
       "(403970, 2)"
      ]
     },
     "execution_count": 24,
     "metadata": {},
     "output_type": "execute_result"
    }
   ],
   "source": [
    "overall.shape"
   ]
  },
  {
   "cell_type": "markdown",
   "metadata": {},
   "source": [
    "#### Train/Test Split"
   ]
  },
  {
   "cell_type": "code",
   "execution_count": 25,
   "metadata": {},
   "outputs": [],
   "source": [
    "# Create train_test_split.\n",
    "X_train, X_test, y_train, y_test = train_test_split(overall[\"feature\"],\n",
    "                                                    overall['overall'],\n",
    "                                                    test_size = 0.20,\n",
    "                                                    random_state = 42,)"
   ]
  },
  {
   "cell_type": "markdown",
   "metadata": {},
   "source": [
    "#### Text cleaning"
   ]
  },
  {
   "cell_type": "code",
   "execution_count": 31,
   "metadata": {},
   "outputs": [],
   "source": [
    "#define a funtion to clean the text feature\n",
    "def clean_text(feature):\n",
    "   \n",
    "    #2, remove punctuations, single letters, \"http\", ect unneccessary words \n",
    "    letters_only = re.sub(\"\\W\", \" \", feature)\n",
    "    remove_single_letter = re.sub(\" \\w \", \" \", letters_only)\n",
    "    remove_single_number = re.sub(\" \\w \", \" \", remove_single_letter)\n",
    "\n",
    "    \n",
    "     # 3. Convert to lower case, split into individual words.\n",
    "    words = remove_single_number.lower().split()\n",
    "    \n",
    "    # 4.  convert the stop words to a set.\n",
    "    stops = set(stopwords.words('english'))\n",
    "    \n",
    "    # 5. Remove stop words.\n",
    "    meaningful_words = [w for w in words if not w in stops]\n",
    "   \n",
    "    # 6. return base/dictionary form of a word\n",
    "    lemmatizer = WordNetLemmatizer()\n",
    "    meaningful_words_lem = [lemmatizer.lemmatize(i) for i in meaningful_words]\n",
    " \n",
    "    return(\" \".join(meaningful_words_lem))"
   ]
  },
  {
   "cell_type": "code",
   "execution_count": 32,
   "metadata": {},
   "outputs": [],
   "source": [
    "#clean the test and train set data\n",
    "clean_train = []\n",
    "for item in X_train:\n",
    "    clean_train.append(clean_text(item))\n",
    "clean_test = []\n",
    "for item in X_test:\n",
    "    clean_test.append(clean_text(item))"
   ]
  },
  {
   "cell_type": "markdown",
   "metadata": {},
   "source": [
    "#### Baseline Model"
   ]
  },
  {
   "cell_type": "code",
   "execution_count": 33,
   "metadata": {},
   "outputs": [],
   "source": [
    "#pipeline will consist of two stages\n",
    "pipe = Pipeline([\n",
    "    ('tvec', TfidfVectorizer()),\n",
    "    ('nb', MultinomialNB())\n",
    "])"
   ]
  },
  {
   "cell_type": "code",
   "execution_count": 34,
   "metadata": {},
   "outputs": [
    {
     "data": {
      "text/plain": [
       "Pipeline(steps=[('tvec', TfidfVectorizer()), ('nb', MultinomialNB())])"
      ]
     },
     "execution_count": 34,
     "metadata": {},
     "output_type": "execute_result"
    }
   ],
   "source": [
    "pipe.fit(clean_train, y_train)"
   ]
  },
  {
   "cell_type": "code",
   "execution_count": 35,
   "metadata": {},
   "outputs": [
    {
     "data": {
      "text/plain": [
       "0.5870423546302943"
      ]
     },
     "execution_count": 35,
     "metadata": {},
     "output_type": "execute_result"
    }
   ],
   "source": [
    "pipe.score(clean_train,y_train)"
   ]
  },
  {
   "cell_type": "code",
   "execution_count": 36,
   "metadata": {},
   "outputs": [
    {
     "data": {
      "text/plain": [
       "0.5330965170680991"
      ]
     },
     "execution_count": 36,
     "metadata": {},
     "output_type": "execute_result"
    }
   ],
   "source": [
    "pipe.score(clean_test,y_test)"
   ]
  },
  {
   "cell_type": "markdown",
   "metadata": {},
   "source": [
    "Extensive data set has high dimension text features(325740 features). after balanced the dataset, text features reduced to 185979. It is still a high dimension data features"
   ]
  },
  {
   "cell_type": "code",
   "execution_count": 38,
   "metadata": {},
   "outputs": [],
   "source": [
    "from numpy import array\n",
    "from keras.preprocessing.text import one_hot\n",
    "from keras.preprocessing.sequence import pad_sequences\n",
    "from keras.models import Sequential\n",
    "from keras.layers.core import Activation, Dropout, Dense\n",
    "from keras.layers import Flatten, LSTM\n",
    "from keras.layers import GlobalMaxPooling1D\n",
    "from keras.models import Model\n",
    "from keras.layers.embeddings import Embedding\n",
    "from sklearn.model_selection import train_test_split\n",
    "from keras.preprocessing.text import Tokenizer\n",
    "from keras.layers import Input\n",
    "from keras.layers.merge import Concatenate\n",
    "\n",
    "import pandas as pd\n",
    "import numpy as np\n",
    "import re\n",
    "\n",
    "import matplotlib.pyplot as plt"
   ]
  },
  {
   "cell_type": "code",
   "execution_count": 39,
   "metadata": {},
   "outputs": [],
   "source": [
    "tokenizer = Tokenizer(num_words=5000)\n",
    "tokenizer.fit_on_texts(clean_train)\n",
    "\n",
    "X_train_ds = tokenizer.texts_to_sequences(clean_train)\n",
    "X_test_ds = tokenizer.texts_to_sequences(clean_test)\n",
    "\n",
    "vocab_size = len(tokenizer.word_index) + 1\n",
    "\n",
    "maxlen = 200\n",
    "\n",
    "X_train_ds = pad_sequences(X_train_ds, padding='post', maxlen=maxlen)\n",
    "X_test_ds = pad_sequences(X_test_ds, padding='post', maxlen=maxlen)"
   ]
  },
  {
   "cell_type": "code",
   "execution_count": 41,
   "metadata": {},
   "outputs": [],
   "source": [
    "from numpy import array\n",
    "from numpy import asarray\n",
    "from numpy import zeros\n",
    "\n",
    "embeddings_dictionary = dict()\n",
    "\n",
    "glove_file = open('glove.6B.100d.txt', encoding=\"utf8\")\n",
    "\n",
    "for line in glove_file:\n",
    "    records = line.split()\n",
    "    word = records[0]\n",
    "    vector_dimensions = asarray(records[1:], dtype='float32')\n",
    "    embeddings_dictionary[word] = vector_dimensions\n",
    "glove_file.close()\n",
    "\n",
    "embedding_matrix = zeros((vocab_size, 100))\n",
    "for word, index in tokenizer.word_index.items():\n",
    "    embedding_vector = embeddings_dictionary.get(word)\n",
    "    if embedding_vector is not None:\n",
    "        embedding_matrix[index] = embedding_vector"
   ]
  },
  {
   "cell_type": "code",
   "execution_count": 52,
   "metadata": {},
   "outputs": [],
   "source": [
    "deep_inputs = Input(shape=(maxlen,))\n",
    "embedding_layer = Embedding(vocab_size, 100, weights=[embedding_matrix], trainable=False)(deep_inputs)\n",
    "LSTM_Layer_1 = LSTM(128)(embedding_layer)\n",
    "dense_layer_1 = Dense(6, activation='sigmoid')(LSTM_Layer_1)\n",
    "model = Model(inputs=deep_inputs, outputs=dense_layer_1)\n",
    "\n",
    "model.compile(loss='SparseCategoricalCrossentropy', optimizer='adam', metrics=['acc'])"
   ]
  },
  {
   "cell_type": "code",
   "execution_count": 1,
   "metadata": {},
   "outputs": [],
   "source": [
    "#history = model.fit(X_train_ds, y_train.values, batch_size=128, epochs=5, verbose=1, validation_split=0.2)"
   ]
  },
  {
   "cell_type": "code",
   "execution_count": null,
   "metadata": {},
   "outputs": [],
   "source": [
    "#score = model.evaluate(X_test, y_test, verbose=1)\n",
    "\n",
    "#print(\"Test Score:\", score[0])\n",
    "#print(\"Test Accuracy:\", score[1]"
   ]
  }
 ],
 "metadata": {
  "kernelspec": {
   "display_name": "Python 3",
   "language": "python",
   "name": "python3"
  },
  "language_info": {
   "codemirror_mode": {
    "name": "ipython",
    "version": 3
   },
   "file_extension": ".py",
   "mimetype": "text/x-python",
   "name": "python",
   "nbconvert_exporter": "python",
   "pygments_lexer": "ipython3",
   "version": "3.8.3"
  }
 },
 "nbformat": 4,
 "nbformat_minor": 4
}
