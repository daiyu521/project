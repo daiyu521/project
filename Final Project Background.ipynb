{
 "cells": [
  {
   "cell_type": "markdown",
   "metadata": {},
   "source": [
    "## **PREDICTING THE IDEAL LOCATION FOR OPENNING A SPA CENTRE IN SINGAPORE**"
   ]
  },
  {
   "cell_type": "markdown",
   "metadata": {},
   "source": [
    "### **1.Background**"
   ]
  },
  {
   "cell_type": "markdown",
   "metadata": {},
   "source": [
    "#### **1.1 Introduction**\n",
    "#### Singapore is a sovereign city-state island in Southeast Asia, a highly industrialized nation, ranking 9th in the United Nations Human Development Index, the highest in Asia for a sovereign state, with the world's 7th highest GDP per capita. There's no place quite like Singapore when it comes to starting a company in a booming Asian city. Singapore is a vibrant, attractive Asian country which draws thousands of tourists towards its shores every year. Food, shopping, tourism, travel are all parts of what make Singapore such an attractive destination. Spa industry is an important part of Singapore’s health and wellness sector. The industry is reportedly valued at $140 million a year! And it shows no signs of slowing down anytime soon. It is also one of the only few industries that has been able to successfully remain resilient despite the economic crisis."
   ]
  },
  {
   "cell_type": "markdown",
   "metadata": {},
   "source": [
    "#### **1.2 Problem**\n",
    "#### A Singapore spa business is close to a massage company, so the conditions for starting your Singapore spa business aren't going to be any different. Starting a spa company is a good idea because of the growing need to meet local and tourist needs. With people increasingly aware of the incredible benefits of spa treatments in Singapore, demand for spa centers is rising, but so is supply. The spa and wellness sector in Singapore offers a huge competition, and establishing your mark as a new entrant is not easy.Despite other considerations when start a spa business, the outlet Location plays a critical role in its success or failure. The spa should be centrally located at a well-connected, easily accessible location. It can be cherry on the cake to choose a popular or attractive area."
   ]
  },
  {
   "cell_type": "markdown",
   "metadata": {},
   "source": [
    "#### **1.3 Target audience**\n",
    "#### Recently, I have met a friend who wishes to open a spa to provide facial, massage,  and body treatment services in Singapore. However, He is struggling with the location for opening his first outlet. My friends' new spa outlet is going to targetting the mid-age population group with good spending power. She has a limited rental budget. The places located near the Shopping center with convenient public transport are ideal to choose from. Also, she hopes there is less competition near the place. So which places are ideal for considerations? Let us explore!"
   ]
  },
  {
   "cell_type": "code",
   "execution_count": null,
   "metadata": {},
   "outputs": [],
   "source": []
  }
 ],
 "metadata": {
  "kernelspec": {
   "display_name": "Python",
   "language": "python",
   "name": "conda-env-python-py"
  },
  "language_info": {
   "codemirror_mode": {
    "name": "ipython",
    "version": 3
   },
   "file_extension": ".py",
   "mimetype": "text/x-python",
   "name": "python",
   "nbconvert_exporter": "python",
   "pygments_lexer": "ipython3",
   "version": "3.6.10"
  }
 },
 "nbformat": 4,
 "nbformat_minor": 4
}
