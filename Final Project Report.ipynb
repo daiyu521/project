{
 "cells": [
  {
   "cell_type": "markdown",
   "metadata": {},
   "source": [
    "## **PREDICTING THE IDEAL LOCATION FOR OPENNING A SPA CENTRE IN SINGAPORE**"
   ]
  },
  {
   "cell_type": "markdown",
   "metadata": {},
   "source": [
    "### **1.Background**"
   ]
  },
  {
   "cell_type": "markdown",
   "metadata": {},
   "source": [
    "#### **1.1 Introduction**\n",
    "#### Singapore is a sovereign city-state island in Southeast Asia, a highly industrialized nation, ranking 9th in the United Nations Human Development Index, the highest in Asia for a sovereign state, with the world's 7th highest GDP per capita. There's no place quite like Singapore when it comes to starting a company in a booming Asian city. Singapore is a vibrant, attractive Asian country which draws thousands of tourists towards its shores every year. Food, shopping, tourism, travel are all parts of what make Singapore such an attractive destination. Spa industry is an important part of Singapore’s health and wellness sector. The industry is reportedly valued at $140 million a year! And it shows no signs of slowing down anytime soon. It is also one of the only few industries that has been able to successfully remain resilient despite the economic crisis."
   ]
  },
  {
   "cell_type": "markdown",
   "metadata": {},
   "source": [
    "#### **1.2 Problem**\n",
    "#### A Singapore spa business is close to a massage company, so the conditions for starting your Singapore spa business aren't going to be any different. Starting a spa company is a good idea because of the growing need to meet local and tourist needs. With people increasingly aware of the incredible benefits of spa treatments in Singapore, demand for spa centers is rising, but so is supply. The spa and wellness sector in Singapore offers a huge competition, and establishing your mark as a new entrant is not easy.Despite other considerations when start a spa business, the outlet Location plays a critical role in its success or failure. The spa should be centrally located at a well-connected, easily accessible location. It can be cherry on the cake to choose a popular or attractive area."
   ]
  },
  {
   "cell_type": "markdown",
   "metadata": {},
   "source": [
    "#### **1.3 Target audience**\n",
    "#### Recently, I have met a friend who wishes to open a spa to provide facial, massage,  and body treatment services in Singapore. However, He is struggling with the location for opening his first outlet. My friends' new spa outlet is going to targetting the mid-age population group with good spending power. She has a limited rental budget. The places located near the Shopping center with convenient public transport are ideal to choose from. Also, she hopes there is less competition near the place. So which places are ideal for considerations? Let us explore!"
   ]
  },
  {
   "cell_type": "markdown",
   "metadata": {},
   "source": [
    "### **2.Data Description**"
   ]
  },
  {
   "cell_type": "markdown",
   "metadata": {},
   "source": [
    "#### **2.1 Reprocess the Orignal Dataset from internet**\n",
    "#### I obtained the Singapore 2020 Q1 retail rental dataset from Singapore Government official website. https://www.ura.gov.sg/-/media/Corporate/Property/Commercial-Properties-2020Q1/comm_median_rentals_2020Q1.pdf?la=en. The Dataset contains the information of Rental rates of different Singapore Streets per square feet for retails and offices in Q1 2020. Below graph is an example of the dataset in pdf format. \n"
   ]
  },
  {
   "cell_type": "markdown",
   "metadata": {},
   "source": [
    "![alt text](https://scontent.fsin5-1.fna.fbcdn.net/v/t1.0-9/95822767_10159578945168906_9077220140927418368_n.jpg?_nc_cat=110&_nc_sid=8024bb&_nc_ohc=H3XUYh603usAX-bHAOD&_nc_ht=scontent.fsin5-1.fna&oh=70d22d788ef9e33292860dd35a6a63a4&oe=5EDEE2CB)"
   ]
  },
  {
   "cell_type": "markdown",
   "metadata": {},
   "source": [
    "#### As mentioned above, the original file is a pdf format file. I tried to using Tabula.read_pdf function to extract the table from the original pdf file but failed to do so in the end. Thus, I downloaded the data directly from the link and converted it to CSV file in my computer. I did the data cleaning for the missing values and  the unwanted columns in the CSV file by using excel."
   ]
  },
  {
   "cell_type": "markdown",
   "metadata": {},
   "source": [
    "![alt text](https://scontent.fsin5-1.fna.fbcdn.net/v/t1.0-9/97054859_10159578944933906_4509786845587963904_n.jpg?_nc_cat=110&_nc_sid=8024bb&_nc_ohc=pKXeiMJbvksAX_zL8T9&_nc_ht=scontent.fsin5-1.fna&oh=594bc91ffbe02c80ae91319f76dbf604&oe=5EDF2CBD)"
   ]
  },
  {
   "cell_type": "markdown",
   "metadata": {},
   "source": [
    "####  After data cleaning, the CSV file was uploaded to IBM Db2 on cloud. Use SQL magic retrieve the data and convert to dataframe in the Jupyter notebook. With this dataframe, we could predict locations with ideal rental rate and analysis further by using Foursquar API."
   ]
  },
  {
   "cell_type": "markdown",
   "metadata": {},
   "source": [
    "![alt text](https://scontent.fsin5-1.fna.fbcdn.net/v/t1.0-9/96510216_10159578944978906_6024643637910962176_n.jpg?_nc_cat=110&_nc_sid=8024bb&_nc_ohc=frXJrIlklk4AX8qe1Ju&_nc_ht=scontent.fsin5-1.fna&oh=433179366541b8d3ad04950312762804&oe=5EDEF9E0)"
   ]
  },
  {
   "cell_type": "markdown",
   "metadata": {},
   "source": [
    "#### **2.2 Retrieve all the Latitudes and longitudes for all the streets in the dataframe**\n",
    "#### By installation of Geopy package, all the location details for the streets in the dataframe could be found out. We could retrieve the Latitudes and Longitudes as below:"
   ]
  },
  {
   "cell_type": "markdown",
   "metadata": {},
   "source": [
    "![alt text](https://scontent.fsin5-1.fna.fbcdn.net/v/t1.0-9/96136989_10159578945838906_1080355970556624896_n.jpg?_nc_cat=109&_nc_sid=8024bb&_nc_ohc=kwCbxJhkDxoAX-EYVfV&_nc_ht=scontent.fsin5-1.fna&oh=86d5939c846fd9159a39db7c95c55083&oe=5EDBEA1E)"
   ]
  },
  {
   "cell_type": "markdown",
   "metadata": {},
   "source": [
    "#### **2.3 Get Near-by-venues occurrence frequency for all the streets in the dataframe**\n",
    "#### After getting all the latitudes and longitudes, it was ready to connect with Foursquare API to explore the near-by-venues for all the streets. The Foursquare Credentials and version were defined before I explored. For the first street I explored, I got the top 100 venues that are in the street within a radius of 500 meters. I borrowed the get_category_type function from the Foursquare lab to clean the json and structure it into a pandas dataframe.\n"
   ]
  },
  {
   "cell_type": "markdown",
   "metadata": {},
   "source": [
    "![alt text](https://scontent.fsin5-1.fna.fbcdn.net/v/t1.0-9/96418211_10159578945908906_8757998534898221056_n.jpg?_nc_cat=108&_nc_sid=8024bb&_nc_ohc=LBcxnyahJVoAX9rzc5A&_nc_ht=scontent.fsin5-1.fna&oh=32354b20650b95345a610cb093f96db0&oe=5EDC4999)"
   ]
  },
  {
   "cell_type": "markdown",
   "metadata": {},
   "source": [
    "#### I repeated the above process for all the streets in the dataframe. and grouped the rows by neighborhood (street name) and by taking the mean of the frequency of occurrence of each category. Now it was ready to analysis the near-by-venues to determine the suitable locations to start a new spa business: any bus stop or MRT station there? Any spa centres already opened there? Is there near to the shopping mall or hotel? "
   ]
  },
  {
   "cell_type": "markdown",
   "metadata": {},
   "source": [
    "![alt text](https://scontent.fsin5-1.fna.fbcdn.net/v/t1.0-9/95857793_10159578946313906_761677948473311232_n.jpg?_nc_cat=101&_nc_sid=8024bb&_nc_ohc=KVEevcUqDvoAX_5uQfI&_nc_ht=scontent.fsin5-1.fna&oh=dd7c60d6ce456611676edca3ff4ab278&oe=5EDEFA44)"
   ]
  },
  {
   "cell_type": "markdown",
   "metadata": {},
   "source": [
    "### **3.Methodology**"
   ]
  },
  {
   "cell_type": "markdown",
   "metadata": {},
   "source": [
    "#### **3.1 K mean Cluster analysis**\n",
    "\n",
    "#### clustering is the task of grouping a set of objects in such a way that objects in the same group are more similar to each other than to those in other groups. It is a main task of exploratory data mining, and a common technique for statistical data analysis, used in many fields, including pattern recognition, image analysis, information retrieval, bioinformatics, data compression, computer graphics and machine learning. k-means is vastly used for clustering in many data science applications, especially useful if you need to quickly discover insights from unlabeled data. In this study we will using K mean cluster analysis to draw the quick insight from above data for bussiness use."
   ]
  },
  {
   "cell_type": "markdown",
   "metadata": {},
   "source": [
    "#### First of all, I plotted a histogram by Rental rate"
   ]
  },
  {
   "cell_type": "markdown",
   "metadata": {},
   "source": [
    "![alt text](https://scontent.fsin5-1.fna.fbcdn.net/v/t1.0-9/96418204_10159587660308906_3999036022011723776_n.jpg?_nc_cat=100&_nc_sid=8024bb&_nc_ohc=petSFH7z3jYAX8h8704&_nc_ht=scontent.fsin5-1.fna&oh=7df18637fad8b0140fb566cbd313dfd2&oe=5EE15B82)"
   ]
  },
  {
   "cell_type": "markdown",
   "metadata": {},
   "source": [
    "#### From the histogram, I roughly determined that I wished to group my result into 6 clusters, and I partitioned the dataset into 6 groups according to price."
   ]
  },
  {
   "cell_type": "markdown",
   "metadata": {},
   "source": [
    "![alt text](https://scontent.fsin5-1.fna.fbcdn.net/v/t1.0-9/97045876_10159587660318906_5984223052148244480_n.jpg?_nc_cat=103&_nc_sid=8024bb&_nc_ohc=OG9Gb_ixfOAAX-TldVH&_nc_ht=scontent.fsin5-1.fna&oh=9e76b43cadfa70202ad8ee6f05b34f90&oe=5EE153B9)"
   ]
  },
  {
   "cell_type": "markdown",
   "metadata": {},
   "source": [
    "#### Also, I clustered the dataset based on Near-by-Venues into 6 groups as well"
   ]
  },
  {
   "cell_type": "markdown",
   "metadata": {},
   "source": [
    "![alt text](https://scontent.fsin5-1.fna.fbcdn.net/v/t1.0-9/97454274_10159587660433906_4485377850660093952_o.jpg?_nc_cat=102&_nc_sid=8024bb&_nc_ohc=TbhBvaKTLIoAX8Y2Q03&_nc_ht=scontent.fsin5-1.fna&oh=93c37f5fd9406abf44b8fcbce2211c99&oe=5EE048C8)"
   ]
  },
  {
   "cell_type": "markdown",
   "metadata": {},
   "source": [
    "#### **3.2 The TOP 30 Most common Venue for each Location**"
   ]
  },
  {
   "cell_type": "markdown",
   "metadata": {},
   "source": [
    "#### Find the Top 30 most common venues is to help to understand the charactors of each clustering group. The reason I choose to show Top 30 most common Venues is that the venues for spa/massage bussiness did not show up when I put less most common Venues."
   ]
  },
  {
   "cell_type": "markdown",
   "metadata": {},
   "source": [
    "![alt text](https://scontent.fsin5-1.fna.fbcdn.net/v/t1.0-9/97997748_10159587660478906_3315714211346120704_o.jpg?_nc_cat=100&_nc_sid=8024bb&_nc_ohc=1yi1e7Jor20AX9AGr2E&_nc_ht=scontent.fsin5-1.fna&oh=ceba1d4b7a455c18fd246de33dc34756&oe=5EE05463)"
   ]
  },
  {
   "cell_type": "markdown",
   "metadata": {},
   "source": [
    "#### **3.3 Merge the Price cluster Label and Venue Cluster Label with the Top 30 Most common Venue Dataframe**"
   ]
  },
  {
   "cell_type": "markdown",
   "metadata": {},
   "source": [
    "#### Now we merged the price clusters label and Venue Cluster label with the Top 30 most common venue Dataframe"
   ]
  },
  {
   "cell_type": "markdown",
   "metadata": {},
   "source": [
    "![alt text](https://scontent.fsin5-1.fna.fbcdn.net/v/t1.0-9/96358259_10159587660508906_8546013642250780672_o.jpg?_nc_cat=110&_nc_sid=8024bb&_nc_ohc=9tsR3RmB1rIAX-JZ9P8&_nc_ht=scontent.fsin5-1.fna&oh=2e36a7bd4eb70c041e921036fc426529&oe=5EDF2716)"
   ]
  },
  {
   "cell_type": "markdown",
   "metadata": {},
   "source": [
    "#### **3.4 Plot the map by using folium to visualization the data**"
   ]
  },
  {
   "cell_type": "markdown",
   "metadata": {},
   "source": [
    "#### Rental Rate Clusters"
   ]
  },
  {
   "cell_type": "markdown",
   "metadata": {},
   "source": [
    "![alt text](https://scontent.fsin5-1.fna.fbcdn.net/v/t1.0-9/96834334_10159587661228906_5506885596666134528_o.jpg?_nc_cat=107&_nc_sid=8024bb&_nc_ohc=Ff_gbLc-OmQAX-AEXzs&_nc_ht=scontent.fsin5-1.fna&oh=9c9630c8a473029856b9f472a580a590&oe=5EDF0B02)"
   ]
  },
  {
   "cell_type": "markdown",
   "metadata": {},
   "source": [
    "#### Venue Clusters"
   ]
  },
  {
   "cell_type": "markdown",
   "metadata": {},
   "source": [
    "![alt text](https://scontent.fsin5-1.fna.fbcdn.net/v/t1.0-9/96510215_10159587661583906_9179179164136112128_o.jpg?_nc_cat=102&_nc_sid=8024bb&_nc_ohc=XEgShLd12hkAX8rUTQ_&_nc_ht=scontent.fsin5-1.fna&oh=dc82a1dfed202d2effaf7665b1b5140d&oe=5EDF16DA)"
   ]
  },
  {
   "cell_type": "markdown",
   "metadata": {},
   "source": [
    "### **4.Result**"
   ]
  },
  {
   "cell_type": "markdown",
   "metadata": {},
   "source": [
    "#### **4.1 Locations fit the Business budget**\n",
    "#### As I mentioned in the Background Section, My friend has a limited budget for setting up the business, I looked into Price Cluster label 0 as my friend set the budget around or less than SGD 100 per square feet for the rental rate. I got a list for below:"
   ]
  },
  {
   "cell_type": "markdown",
   "metadata": {},
   "source": [
    "![alt text](https://scontent.fsin5-1.fna.fbcdn.net/v/t1.0-9/96819945_10159587660573906_6205625498110787584_o.jpg?_nc_cat=102&_nc_sid=8024bb&_nc_ohc=vO3srMrEAxoAX8dYCOI&_nc_ht=scontent.fsin5-1.fna&oh=d1f44e4569d3dcef00127cb3b39ab352&oe=5EE1FCAA)"
   ]
  },
  {
   "cell_type": "markdown",
   "metadata": {},
   "source": [
    "#### **4.2 Location fit the Business Target Audience**\n",
    "#### Now I looked into different Venue Clusters labeled groups under Price Cluster Label 0, and charaterized them and draw the bussiness insighs from the information"
   ]
  },
  {
   "cell_type": "markdown",
   "metadata": {},
   "source": [
    "#### Venue Cluster Label 0 and 1"
   ]
  },
  {
   "cell_type": "markdown",
   "metadata": {},
   "source": [
    "![alt text](https://scontent.fsin5-1.fna.fbcdn.net/v/t1.0-9/96254995_10159587660883906_2336187880872869888_o.jpg?_nc_cat=105&_nc_sid=8024bb&_nc_ohc=TmYvJ60HJ4AAX_9hUcB&_nc_ht=scontent.fsin5-1.fna&oh=bbd69bc7723ef62c40ead001dc87551b&oe=5EDE662D)"
   ]
  },
  {
   "cell_type": "markdown",
   "metadata": {},
   "source": [
    "![alt text](https://scontent.fsin5-1.fna.fbcdn.net/v/t1.0-9/97445811_10159587661083906_4540139899159838720_o.jpg?_nc_cat=106&_nc_sid=8024bb&_nc_ohc=DXkrvmvVmhMAX9i5PjB&_nc_ht=scontent.fsin5-1.fna&oh=c9ae7d9ae5cf595ce890604c4c74f38b&oe=5EE112B8)"
   ]
  },
  {
   "cell_type": "markdown",
   "metadata": {},
   "source": [
    "#### Venue Cluster Label 2"
   ]
  },
  {
   "cell_type": "markdown",
   "metadata": {},
   "source": [
    "![alt text](https://scontent.fsin5-1.fna.fbcdn.net/v/t1.0-9/96834329_10159587661488906_2195071572107067392_o.jpg?_nc_cat=110&_nc_sid=8024bb&_nc_ohc=wMurLryEUqwAX_Dq6Y8&_nc_ht=scontent.fsin5-1.fna&oh=3f99836bbd5e392f292d60f7996bd055&oe=5EE21A6C)"
   ]
  },
  {
   "cell_type": "markdown",
   "metadata": {},
   "source": [
    "#### Venue Cluster Label 3 and 5, there is no data under Venue Cluster Label 4"
   ]
  },
  {
   "cell_type": "markdown",
   "metadata": {},
   "source": [
    "![alt text](https://scontent.fsin5-1.fna.fbcdn.net/v/t1.0-9/97441343_10159587661453906_7825530614899015680_o.jpg?_nc_cat=107&_nc_sid=8024bb&_nc_ohc=gItrJZeZeOYAX_YH5jo&_nc_ht=scontent.fsin5-1.fna&oh=a051d4f7474b8f3879778222819143be&oe=5EDEEBF4)"
   ]
  },
  {
   "cell_type": "markdown",
   "metadata": {},
   "source": [
    "### **5.Discussion**"
   ]
  },
  {
   "cell_type": "markdown",
   "metadata": {},
   "source": [
    "#### Singapore is a nation that’s home to a wide range of cultures, ethnicities and religions. Singapore is multicultural with four categorisation of race — Chinese, Malay, Indian and Others (CMIO). In Venue Cluster Label 0 and 1: it shows the businesses in those locations are more targeting for Local customers as There is less Hotels, attractions or other tourism venues. Venue Cluster Label 0 is have more race diversities compared to Venue Cluster Label 1 as there are more different types of  the restaurants are the Top 1st most common venues in Venue cluster label 0 while the Top 1st most common Venue in Venue cluster label 1 is Chinese restaurant. Venue Cluster Label 2 will have more tourisms as there are more Hotel and Attractions venues. Venue Cluster Label 3 and 5 have a few data to draw the business insights, but we could guess that maybe there are more customers which have night activities in Venue cluster Label 3, while there are more younger customers in Venue Cluster 6 because the Coffee shops and collage Bookstore are the most common venues\n",
    "\n",
    "#### For starting a Spa Business, who are the potential customers? The school students? office ladies? Local people? or tourism? This is an important factor to choose a location rather than rental budget."
   ]
  },
  {
   "cell_type": "markdown",
   "metadata": {},
   "source": [
    "### **6.Conclusion**"
   ]
  },
  {
   "cell_type": "markdown",
   "metadata": {},
   "source": [
    "#### As mentioned before, my friend would like to targeting the customer who are in mid age population with good spending power. Under price cluster Label 0, the Venue Cluster Label 5 is out of consideration.\n",
    "#### Further more, there is another meeting should held with my friend to determine his business target audience in details like targeting race groups, targeting domestic customer or tourisms? what is my friends' business working hours?\n",
    "#### In future analysis, I may study the group characters which have a spa or massage venues in the Top 30 most common venues. and I will look more details which have more bus station and train station venues."
   ]
  },
  {
   "cell_type": "markdown",
   "metadata": {},
   "source": [
    "### **7.0 Reference**"
   ]
  },
  {
   "cell_type": "markdown",
   "metadata": {},
   "source": [
    "#### 1. https://en.wikipedia.org/wiki/Singapore"
   ]
  },
  {
   "cell_type": "markdown",
   "metadata": {},
   "source": [
    "#### 2. https://www.ura.gov.sg/-/media/Corporate/Property/Commercial-Properties-2020Q1/comm_median_rentals_2020Q1.pdf?la=en."
   ]
  }
 ],
 "metadata": {
  "kernelspec": {
   "display_name": "Python",
   "language": "python",
   "name": "conda-env-python-py"
  },
  "language_info": {
   "codemirror_mode": {
    "name": "ipython",
    "version": 3
   },
   "file_extension": ".py",
   "mimetype": "text/x-python",
   "name": "python",
   "nbconvert_exporter": "python",
   "pygments_lexer": "ipython3",
   "version": "3.6.10"
  }
 },
 "nbformat": 4,
 "nbformat_minor": 4
}
